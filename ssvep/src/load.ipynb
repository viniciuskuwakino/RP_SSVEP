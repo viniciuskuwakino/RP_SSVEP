{
 "cells": [
  {
   "cell_type": "markdown",
   "id": "f7e74f29",
   "metadata": {},
   "source": [
    "#### Selecionar qual base de dados carregar"
   ]
  },
  {
   "cell_type": "code",
   "execution_count": 7,
   "id": "40011c77",
   "metadata": {},
   "outputs": [],
   "source": [
    "# Imports\n",
    "\n",
    "import pandas as pd\n",
    "import sklearn as skl\n",
    "import matplotlib as plt\n",
    "import scipy.io as sci\n",
    "import numpy as np"
   ]
  },
  {
   "cell_type": "markdown",
   "id": "bab44e1f",
   "metadata": {},
   "source": [
    "### Single"
   ]
  },
  {
   "cell_type": "code",
   "execution_count": 54,
   "id": "3d99e37e",
   "metadata": {},
   "outputs": [],
   "source": [
    "# Pré-carregamento\n",
    "\n",
    "avi_data = list()\n",
    "\n",
    "for i in range(1,5):\n",
    "    avi_data.append(sci.loadmat(f\"../datasets/avi/single/Sub{i}_singletarget.mat\"))"
   ]
  },
  {
   "cell_type": "code",
   "execution_count": 55,
   "id": "10b2d158",
   "metadata": {},
   "outputs": [
    {
     "name": "stdout",
     "output_type": "stream",
     "text": [
      "Divisão dos dados:\n",
      "(15360, 27)\n",
      "(15360, 26)\n",
      "(15360, 21)\n",
      "(15360, 21)\n",
      "\n",
      "Divisão dos rótulos (sequências):\n",
      "[[10.  10.  10.  12.  12.  12.   6.5  6.5  6.5  6.   6.   6.   6.   6.\n",
      "   6.   7.5  7.5  7.5  7.   7.   7.   8.2  8.2  8.2  9.3  9.3  9.3]]\n",
      "[[10.  10.  10.   6.5  6.5  6.5  6.5  6.   6.   6.   7.5  7.5  7.5  7.\n",
      "   7.   7.   7.   7.   7.   8.2  8.2  8.2  8.2  9.3  9.3  9.3]]\n",
      "[[10.  10.  10.   6.5  6.5  6.5  6.   6.   6.   7.5  7.5  7.5  7.   7.\n",
      "   7.   8.2  8.2  8.2  9.3  9.3  9.3]]\n",
      "[[10.  10.  10.   6.5  6.5  6.5  6.   6.   6.   7.5  7.5  7.5  7.   7.\n",
      "   7.   8.2  8.2  8.2  9.3  9.3  9.3]]\n"
     ]
    }
   ],
   "source": [
    "# Extração direta dos dados\n",
    "\n",
    "X = [d['Data'][0][0][0] for d in avi_data]\n",
    "y = [d['Data'][0][0][1] for d in avi_data]\n",
    "\n",
    "print(\"Divisão dos dados:\")\n",
    "for data in X:\n",
    "    print(data.shape)\n",
    "\n",
    "print(\"\\nDivisão dos rótulos (sequências):\")\n",
    "for data in y:\n",
    "    print(data)"
   ]
  },
  {
   "cell_type": "code",
   "execution_count": 64,
   "id": "c1a54c74",
   "metadata": {},
   "outputs": [
    {
     "data": {
      "text/plain": [
       "((4, 21, 15360), (4, 21, 1))"
      ]
     },
     "execution_count": 64,
     "metadata": {},
     "output_type": "execute_result"
    }
   ],
   "source": [
    "# Padronizando os participantes \n",
    "\n",
    "full_data_X = list()\n",
    "full_data_y = list()\n",
    "\n",
    "full_data_X.append((X[0][:, list(set(range(27)) - set([3, 4, 5, 12, 13, 14]))]).T)\n",
    "full_data_y.append((y[0][:, list(set(range(27)) - set([3, 4, 5, 12, 13, 14]))]).T)\n",
    "\n",
    "full_data_X.append((X[1][:, list(set(range(26)) - set([6, 16, 17, 18, 22]))]).T)\n",
    "full_data_y.append((y[1][:, list(set(range(26)) - set([6, 16, 17, 18, 22]))]).T)\n",
    "\n",
    "full_data_X.append((X[2][:, :]).T)\n",
    "full_data_y.append((y[2][:, :]).T)\n",
    "\n",
    "full_data_X.append((X[3][:, :]).T)\n",
    "full_data_y.append((y[3][:, :]).T)\n",
    "\n",
    "full_data_X = np.array(full_data_X)\n",
    "full_data_y = np.array(full_data_y)\n",
    "full_data_X.shape, full_data_y.shape\n",
    "\n",
    "# Salvar os dados numpy\n",
    "\n",
    "# np.save(\"../datasets/avi/single/data_sub1.npy\", full_data_X)\n",
    "# np.save(\"../datasets/avi/single/labels_sub1.npy\", full_data_y)"
   ]
  },
  {
   "cell_type": "code",
   "execution_count": 11,
   "id": "414cc201",
   "metadata": {},
   "outputs": [
    {
     "data": {
      "text/plain": [
       "((4, 15360, 21), (4, 1, 21))"
      ]
     },
     "execution_count": 11,
     "metadata": {},
     "output_type": "execute_result"
    }
   ],
   "source": [
    "full_data_X.shape, full_data_y.shape"
   ]
  },
  {
   "cell_type": "code",
   "execution_count": 59,
   "id": "849580bf",
   "metadata": {},
   "outputs": [
    {
     "data": {
      "text/plain": [
       "(4, 21, 15360)"
      ]
     },
     "execution_count": 59,
     "metadata": {},
     "output_type": "execute_result"
    }
   ],
   "source": [
    "a = full_data_X.shape\n",
    "full_data_X = full_data_X.reshape([a[0], a[2], a[1]])\n",
    "full_data_X.shape"
   ]
  },
  {
   "cell_type": "markdown",
   "id": "88683499",
   "metadata": {},
   "source": [
    "### Multi"
   ]
  },
  {
   "cell_type": "code",
   "execution_count": 44,
   "id": "2c68cd47",
   "metadata": {},
   "outputs": [],
   "source": [
    "# Pré-carregamento\n",
    "\n",
    "avi_data_multi = list()\n",
    "\n",
    "for i in range(1,6):\n",
    "    for j in range(1,3):\n",
    "        avi_data_multi.append(sci.loadmat(f\"../datasets/avi/multi/Sub{i}_{j}_multitarget\"))"
   ]
  },
  {
   "cell_type": "code",
   "execution_count": 49,
   "id": "e74eb68d",
   "metadata": {},
   "outputs": [
    {
     "name": "stdout",
     "output_type": "stream",
     "text": [
      "Divisão dos dados:\n",
      "(10, 8192)\n",
      "(10, 8192)\n",
      "(10, 8192)\n",
      "(10, 8192)\n",
      "(10, 8192)\n",
      "(10, 8192)\n",
      "(10, 8192)\n",
      "(10, 8192)\n",
      "(10, 8192)\n",
      "(10, 8192)\n",
      "\n",
      "Divisão dos rótulos (sequências):\n",
      "[7.5 8.2 7.  8.2 6.  7.5 6.  6.  8.2 8.2]\n",
      "[9.3 6.  6.  8.2 6.  6.5 7.5 7.  6.  6. ]\n",
      "[7.5 8.2 7.  8.2 6.  7.5 6.  6.  8.2 8.2]\n",
      "[9.3 6.  6.  8.2 6.  6.5 7.5 7.  6.  6. ]\n",
      "[7.5 8.2 7.  8.2 6.  7.5 6.  6.  8.2 8.2]\n",
      "[9.3 6.  6.  8.2 6.  6.5 7.5 7.  6.  6. ]\n",
      "[7.5 8.2 7.  8.2 6.  7.5 6.  6.  8.2 8.2]\n",
      "[9.3 6.  6.  8.2 6.  6.5 7.5 7.  6.  6. ]\n",
      "[7.5 8.2 7.  8.2 6.  7.5 6.  6.  8.2 8.2]\n",
      "[9.3 6.  6.  8.2 6.  6.5 7.5 7.  6.  6. ]\n"
     ]
    }
   ],
   "source": [
    "# Extração direta dos dados\n",
    "\n",
    "X = [d['Data'][0][0][7] for d in avi_data_multi]\n",
    "y = [d['Data'][0][0][8][0] for d in avi_data_multi]\n",
    "\n",
    "print(\"Divisão dos dados:\")\n",
    "for data in X:\n",
    "    # data = data.swapaxes()\n",
    "    print(data.T.shape)\n",
    "\n",
    "print(\"\\nDivisão dos rótulos (sequências):\")\n",
    "for data in y:\n",
    "    print(data)"
   ]
  },
  {
   "cell_type": "code",
   "execution_count": null,
   "metadata": {},
   "outputs": [],
   "source": []
  }
 ],
 "metadata": {
  "kernelspec": {
   "display_name": "Python 3 (ipykernel)",
   "language": "python",
   "name": "python3"
  },
  "language_info": {
   "codemirror_mode": {
    "name": "ipython",
    "version": 3
   },
   "file_extension": ".py",
   "mimetype": "text/x-python",
   "name": "python",
   "nbconvert_exporter": "python",
   "pygments_lexer": "ipython3",
   "version": "3.10.12"
  }
 },
 "nbformat": 4,
 "nbformat_minor": 5
}
