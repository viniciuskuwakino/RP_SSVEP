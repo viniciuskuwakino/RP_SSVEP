{
 "cells": [
  {
   "cell_type": "markdown",
   "id": "f7e74f29",
   "metadata": {},
   "source": [
    "#### Selecionar qual base de dados carregar"
   ]
  },
  {
   "cell_type": "code",
   "execution_count": 14,
   "id": "40011c77",
   "metadata": {},
   "outputs": [],
   "source": [
    "import pandas as pd\n",
    "import sklearn as skl\n",
    "import matplotlib as plt\n",
    "import scipy.io as sci"
   ]
  },
  {
   "cell_type": "code",
   "execution_count": 59,
   "id": "3d99e37e",
   "metadata": {},
   "outputs": [
    {
     "name": "stdout",
     "output_type": "stream",
     "text": [
      "(15360, 27)\n",
      "(1, 27)\n"
     ]
    }
   ],
   "source": [
    "# Leitura do arquivo .csv\n",
    "data = list()\n",
    "\n",
    "for i in range(1,5):\n",
    "    data.append(sci.loadmat(f\"../datasets/avi/single/Sub{i}_singletarget.mat\"))\n",
    "    \n",
    "print(data[0]['Data'][0][0][0].shape)\n",
    "print(data[0]['Data'][0][0][1].shape)"
   ]
  }
 ],
 "metadata": {
  "kernelspec": {
   "display_name": "Python 3 (ipykernel)",
   "language": "python",
   "name": "python3"
  },
  "language_info": {
   "codemirror_mode": {
    "name": "ipython",
    "version": 3
   },
   "file_extension": ".py",
   "mimetype": "text/x-python",
   "name": "python",
   "nbconvert_exporter": "python",
   "pygments_lexer": "ipython3",
   "version": "3.10.12"
  }
 },
 "nbformat": 4,
 "nbformat_minor": 5
}
