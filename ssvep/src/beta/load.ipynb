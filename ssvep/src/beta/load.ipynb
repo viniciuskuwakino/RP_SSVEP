{
 "cells": [
  {
   "cell_type": "markdown",
   "id": "f7e74f29",
   "metadata": {},
   "source": [
    "#### Selecionar qual base de dados carregar"
   ]
  },
  {
   "cell_type": "code",
   "execution_count": 1,
   "id": "40011c77",
   "metadata": {},
   "outputs": [],
   "source": [
    "# Imports\n",
    "\n",
    "import pandas as pd\n",
    "import sklearn as skl\n",
    "import matplotlib as plt\n",
    "import numpy as np\n",
    "from scipy.io import loadmat"
   ]
  },
  {
   "cell_type": "markdown",
   "id": "bab44e1f",
   "metadata": {},
   "source": [
    "### Beta"
   ]
  },
  {
   "cell_type": "code",
   "execution_count": 2,
   "id": "3d99e37e",
   "metadata": {},
   "outputs": [],
   "source": [
    "# Pré-carregamento\n",
    "\n",
    "beta = loadmat(f\"../../datasets/beta/S13.mat\")"
   ]
  },
  {
   "cell_type": "code",
   "execution_count": 3,
   "id": "10b2d158",
   "metadata": {},
   "outputs": [
    {
     "name": "stdout",
     "output_type": "stream",
     "text": [
      "(64, 750, 4, 40)\n",
      "Labels:\n",
      "(40,)\n",
      "[ 8.6  8.8  9.   9.2  9.4  9.6  9.8 10.  10.2 10.4 10.6 10.8 11.  11.2\n",
      " 11.4 11.6 11.8 12.  12.2 12.4 12.6 12.8 13.  13.2 13.4 13.6 13.8 14.\n",
      " 14.2 14.4 14.6 14.8 15.  15.2 15.4 15.6 15.8  8.   8.2  8.4]\n"
     ]
    }
   ],
   "source": [
    "# extração direta dos dados\n",
    "\n",
    "X = beta['data'][0][0][0]\n",
    "y = beta['data'][0][0][1][0][0][4][0]\n",
    "\n",
    "print(X.shape)\n",
    "\n",
    "print(\"Labels:\")\n",
    "print(y.shape)\n",
    "print(y)"
   ]
  },
  {
   "cell_type": "code",
   "execution_count": 4,
   "id": "fc9cffc7",
   "metadata": {},
   "outputs": [
    {
     "name": "stdout",
     "output_type": "stream",
     "text": [
      "(64, 750, 4, 40)\n",
      "(4, 40, 64, 750)\n"
     ]
    },
    {
     "data": {
      "text/plain": [
       "(160, 64, 750)"
      ]
     },
     "execution_count": 4,
     "metadata": {},
     "output_type": "execute_result"
    }
   ],
   "source": [
    "# Organizar os dados\n",
    "\n",
    "print(X.shape)\n",
    "X_beta = np.array(np.transpose(X, (2, 3, 0, 1)))\n",
    "print(X_beta.shape)\n",
    "\n",
    "X_beta = X_beta.reshape(X_beta.shape[0] * X_beta.shape[1], X_beta.shape[2], X_beta.shape[3])\n",
    "X_beta.shape\n"
   ]
  },
  {
   "cell_type": "code",
   "execution_count": 5,
   "id": "371f3ee4",
   "metadata": {},
   "outputs": [
    {
     "name": "stdout",
     "output_type": "stream",
     "text": [
      "(40,)\n"
     ]
    },
    {
     "data": {
      "text/plain": [
       "(160,)"
      ]
     },
     "execution_count": 5,
     "metadata": {},
     "output_type": "execute_result"
    }
   ],
   "source": [
    "print(y.shape)\n",
    "\n",
    "y_beta = np.array([np.transpose(d) for d in y] * 4)\n",
    "y_beta.shape"
   ]
  },
  {
   "cell_type": "code",
   "execution_count": 6,
   "id": "2800f53d",
   "metadata": {},
   "outputs": [],
   "source": [
    "# Salvar os dados numpy\n",
    "\n",
    "np.save(\"../../datasets/beta/data_beta.npy\", X_beta)\n",
    "np.save(\"../../datasets/beta/labels_beta.npy\", y_beta)"
   ]
  }
 ],
 "metadata": {
  "kernelspec": {
   "display_name": "Python 3 (ipykernel)",
   "language": "python",
   "name": "python3"
  },
  "language_info": {
   "codemirror_mode": {
    "name": "ipython",
    "version": 3
   },
   "file_extension": ".py",
   "mimetype": "text/x-python",
   "name": "python",
   "nbconvert_exporter": "python",
   "pygments_lexer": "ipython3",
   "version": "3.10.12"
  }
 },
 "nbformat": 4,
 "nbformat_minor": 5
}
