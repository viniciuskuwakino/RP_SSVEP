{
 "cells": [
  {
   "cell_type": "markdown",
   "id": "568081f1",
   "metadata": {},
   "source": [
    "## Analise da base de dados `Beta` utilizando algoritmos de ML\n",
    "\n",
    "Neste notebook será analisado o `Beta dataset` utilizando algoritmos de ML para realizar a: \n",
    "\n",
    "1. Extração de características;\n",
    "2. Seleção de características;\n",
    "3. Classificação dos dados.\n",
    "\n",
    "### Pontos importantes do dataset\n",
    "\n",
    "- Frequências estimuladas (total de 40, com diferença de 0.2Hz uma da outra): 8.0; 8.2;...; 15.6; 15.8;\n",
    "- Taxa de amostragem: 250Hz\n",
    "\n",
    "### Analisar os \"momentos\" em que ocorrem evocação do sinal SSVEP\n",
    "1. Criar o objeto `MNE` a partir dos dados do participante;\n",
    "2. Aplicar no objeto `MNE` o filtro passa-faixa nos valores de 6 a 18 Hz;\n",
    "3. Criar cópias do objeto `MNE` com fatias de tempo menores para analisar momentos que ocorrem estimulos ou não (verificar artigo);\n",
    "\n",
    "> 0.0 - 0.5 segundos e 2.5 - 3.0 segundos, ocorre apenas ruído; <br/>\n",
    " 0.5 - 2.5 segundos, ocorre sinal SSVEP (com ruídos)\n",
    " \n",
    "4. Com os sinais separados em objetos `MNE`, aplicar a `FFT`, para que seja possível plotar gráficos que contenham (ou não) as informações:\n",
    "- Os dados devem ser plotados do domínio da frequência (após a transformada de Fourier). O `FFT` pode ser realizado pela biblioteca `scipy.fft`.\n",
    "- Deve ser observado que as janelas (a) com ruído não aparecerão de fato o sinal SSVEP."
   ]
  },
  {
   "cell_type": "code",
   "execution_count": 165,
   "id": "541d82b8",
   "metadata": {},
   "outputs": [],
   "source": [
    "# Imports\n",
    "\n",
    "import pandas as pd\n",
    "import sklearn as skl\n",
    "import matplotlib as plt\n",
    "import mne\n",
    "import numpy as np\n",
    "from scipy.io import loadmat\n",
    "from sklearn.feature_selection import RFE, RFECV\n",
    "from sklearn.svm import SVC, SVR\n",
    "from sklearn.model_selection import train_test_split, StratifiedKFold\n",
    "from sklearn.preprocessing import StandardScaler, LabelEncoder, OneHotEncoder, MinMaxScaler\n",
    "from sklearn.metrics import accuracy_score, precision_score, classification_report\n",
    "from sklearn.impute import SimpleImputer\n",
    "\n",
    "import warnings\n",
    "warnings.filterwarnings('ignore')\n",
    "\n",
    "# beta = loadmat(f\"../../datasets/beta/S13.mat\")\n",
    "beta = np.load(f\"../../datasets/beta/data_beta.npy\")"
   ]
  },
  {
   "cell_type": "markdown",
   "id": "a6a79272",
   "metadata": {},
   "source": [
    "### Extração de características\n",
    "\n",
    "Uma característica importante de acordo com o artigo base do dataset `Beta` é o *signal-to-noise ratio* (SNR).\n",
    "\n",
    "> Incluir equação SNR\n",
    "\n",
    "Ao finalizar essa etapa, será obtido um vetor de características. Essas podem ser:\n",
    "- `SNR` (obrigatória);\n",
    "- Maior valor espectral (FFT em vez do compute_psd);\n",
    "- Média dos valores espectrais (FFT).\n",
    "\n",
    "Dimensionalidade dos dados será explicada da seguinte forma:\n",
    "- `40, 4, 64, 750` -> 40 targets, 4 trials, 64 canais, 750 valores \n",
    "- `160, 64 (SNR) + 64 (media) + 64 (maior) ...` Resultando em `160, 192` "
   ]
  },
  {
   "cell_type": "code",
   "execution_count": 166,
   "id": "9359f0e3",
   "metadata": {},
   "outputs": [
    {
     "name": "stdout",
     "output_type": "stream",
     "text": [
      "Reading /home/vinicius/Documents/RP_SSVEP/ssvep/src/beta/mne_data_beta.fif ...\n",
      "Isotrak not found\n",
      "    Found the data of interest:\n",
      "        t =       0.00 ...    2996.00 ms\n",
      "        0 CTF compensation matrices available\n"
     ]
    },
    {
     "name": "stdout",
     "output_type": "stream",
     "text": [
      "Not setting metadata\n",
      "160 matching events found\n",
      "No baseline correction applied\n",
      "0 projection items activated\n"
     ]
    }
   ],
   "source": [
    "mne_data = mne.read_epochs(\"mne_data_beta.fif\")\n",
    "beta = mne_data.get_data()\n",
    "# mne_data"
   ]
  },
  {
   "cell_type": "markdown",
   "id": "5f392046",
   "metadata": {},
   "source": [
    "> Agora iremos estimar o ruído de fundo, para calcular posteriormente o `narrow SNR` e o `wide-band SNR`."
   ]
  },
  {
   "cell_type": "code",
   "execution_count": 167,
   "id": "ef6688b0",
   "metadata": {},
   "outputs": [
    {
     "data": {
      "text/plain": [
       "30465.602510101286"
      ]
     },
     "execution_count": 167,
     "metadata": {},
     "output_type": "execute_result"
    }
   ],
   "source": [
    "# Estimando o ruído de fundo\n",
    "\n",
    "# intervalos de tempo sem estímulo (0 a 0,5 segundos e 2,5 a 3 segundos)\n",
    "base_start = 0\n",
    "base_end = 125\n",
    "rest_start = 625\n",
    "rest_end = 750\n",
    "\n",
    "# armazena uma lista com as médias de potência para cada canal\n",
    "noise_power = []\n",
    "\n",
    "# consideramos a primeira amostra (1º target, 1º trial)\n",
    "for channel_data in beta[0, :, :]:\n",
    "    fft_result = np.fft.fft(channel_data)\n",
    "    \n",
    "    # densidade espectral de potência (PSD)\n",
    "    psd = np.abs(fft_result) ** 2\n",
    "    \n",
    "    # média da potência nos intervalos de tempo sem estímulo\n",
    "    base_power = np.mean(psd[base_start:base_end])\n",
    "    rest_power = np.mean(psd[rest_start:rest_end])\n",
    "    \n",
    "    # média das duas médias de potência obtidas anteriormente\n",
    "    mean_noise_power = (base_power + rest_power) / 2\n",
    "    noise_power.append(mean_noise_power)\n",
    "    \n",
    "#média das médias de potência de todos os canais para estimar o ruído de fundo\n",
    "estimated_background_noise = np.mean(noise_power)\n",
    "estimated_background_noise"
   ]
  },
  {
   "cell_type": "markdown",
   "id": "c015c681",
   "metadata": {},
   "source": [
    "> Antes de calcular os SNRs, precisamos obter as amplitudes alvo por meio dos dados EEG:"
   ]
  },
  {
   "cell_type": "code",
   "execution_count": 168,
   "id": "8b775611",
   "metadata": {},
   "outputs": [
    {
     "data": {
      "text/plain": [
       "(160, 64, 40)"
      ]
     },
     "execution_count": 168,
     "metadata": {},
     "output_type": "execute_result"
    }
   ],
   "source": [
    "from scipy.signal import find_peaks\n",
    "\n",
    "sr = 250\n",
    "\n",
    "# frequências alvo\n",
    "target_frequencies = np.arange(8, 16, 0.2)\n",
    "\n",
    "# lista para armazenar as amplitudes nas frequências alvo\n",
    "target_amplitudes = []\n",
    "\n",
    "# for channel_data in X_beta[0, :, :]:\n",
    "for channel_data in mne_data.get_data():\n",
    "    target = []\n",
    "    for eletrodo in channel_data:\n",
    "        # fft_result = np.fft.fft(channel_data)\n",
    "        fft_result = np.fft.fft(eletrodo)\n",
    "        psd = np.abs(fft_result) ** 2\n",
    "        frequencies = np.fft.fftfreq(len(fft_result), 1 / sr)\n",
    "        target_amplitudes_trial = []\n",
    "        for target_frequency in target_frequencies:\n",
    "            # encontrando o índice da frequência alvo no espectro de frequência\n",
    "            index = np.argmin(np.abs(frequencies - target_frequency))\n",
    "            # amplitude na frequência alvo\n",
    "            amplitude = np.sqrt(psd[index])\n",
    "            target_amplitudes_trial.append(amplitude)\n",
    "        \n",
    "        target.append(target_amplitudes_trial)\n",
    "\n",
    "    target_amplitudes.append(target)\n",
    "    \n",
    "target_amplitudes = np.array(target_amplitudes)\n",
    "target_amplitudes.shape"
   ]
  },
  {
   "cell_type": "markdown",
   "id": "03674497",
   "metadata": {},
   "source": [
    "Vamos calcular o SNR de \"banda estreita\". Pode ser observado pela seguinte equação:\n",
    "\n",
    "$SNR_{banda\\ estreita} = 10 \\cdot \\log_{10}\\left(\\frac{\\text{energia total do espectro}}{\\text{média das amplitudes nas frequências vizinhas}}\\right)$\n",
    "\n",
    "Já o SNR de banda larga é definido da seguinte forma:\n",
    "\n",
    "$SNR_{banda\\ larga} = 10 \\cdot \\log_{10}\\left(\\frac{\\text{energia total do espectro}}{\\text{energia total do espectro de amplitude}}\\right)$"
   ]
  },
  {
   "cell_type": "code",
   "execution_count": 169,
   "id": "1fb75707",
   "metadata": {},
   "outputs": [
    {
     "name": "stdout",
     "output_type": "stream",
     "text": [
      "(160, 64, 40)\n",
      "(160, 64, 40)\n",
      "\n",
      "(160, 64, 80)\n"
     ]
    }
   ],
   "source": [
    "# forçando (estragando) valor de \"estimated_background_noise\" para não sobrar valores negativos\n",
    "# estimated_background_noise = 1.\n",
    "target_amplitudes_adjusted = target_amplitudes - estimated_background_noise\n",
    "\n",
    "# subtraindo o ruído de fundo das amplitudes\n",
    "narrow_band_SNR = 10 * np.log10(target_amplitudes_adjusted / estimated_background_noise)\n",
    "# print(narrow_band_SNR)\n",
    "print(narrow_band_SNR.shape)\n",
    "\n",
    "total_power = np.sum(target_amplitudes_adjusted)\n",
    "wide_band_SNR = 10 * np.log10(target_amplitudes_adjusted / total_power)\n",
    "# print(wide_band_SNR)\n",
    "print(wide_band_SNR.shape)\n",
    "\n",
    "\n",
    "X = np.array([narrow_band_SNR, wide_band_SNR])\n",
    "X = X.swapaxes(0, 1)\n",
    "X = X.swapaxes(1, 2)\n",
    "X = X.reshape(X.shape[0], X.shape[1], X.shape[2] * X.shape[3])\n",
    "print()\n",
    "print(X.shape)"
   ]
  },
  {
   "cell_type": "markdown",
   "id": "2ea1709d",
   "metadata": {},
   "source": [
    "Ao final desta etapa, será obtido um vetor de características. Estas podem ser:\n",
    "- `narrow SNR` (obrigatória);\n",
    "- `wide-band SNR` (obrigatória);\n",
    "- Maior valor espectral (FFT);\n",
    "- Média dos valores espectrais (FFT).\n",
    "\n",
    "> Dimensionalidade dos dados será explicada da seguinte forma:\n",
    "\n",
    "`40, 4, 64, 750` -> 40 targets, 4 trials, 64 canais e 750 valores `160, 64 (SNR) + 64 (média) + 64 (maior) ...`\n",
    "Resultando em `(160, 192)`.\n",
    "\n",
    "`(160, 64, 750)` = 2 * `(160, 64, 40)` = `(160, 64, 80)` => (reshape) `(160, 64)`\n",
    "\n",
    "reshape => `(160, 64, 80)`\n",
    "\n",
    "> (1) **Seleção de características (MANUAL)**\n",
    "\n",
    "Remover os eletrodos não listados no artigo => `(160, 9, 80)` => reshape `(160, 720)`\n",
    "\n",
    "> (2) Vetor de característica para a **seleção de características RFE**\n",
    "\n",
    "`(160, 64, 80)` => reshape => `(160, 5120)`. Após aplicar o RFE, retorna  `(160, N)`\n",
    "\n",
    "> (3) Aplicar SVM (kernel='linear'), nas duas seleções"
   ]
  },
  {
   "cell_type": "markdown",
   "id": "aaf3d12f",
   "metadata": {},
   "source": [
    "### Seleção de características manualmente"
   ]
  },
  {
   "cell_type": "code",
   "execution_count": 170,
   "id": "d1bbaa8e",
   "metadata": {},
   "outputs": [
    {
     "name": "stdout",
     "output_type": "stream",
     "text": [
      "(160, 9, 80)\n",
      "(160, 720)\n"
     ]
    }
   ],
   "source": [
    "# 1 - Seleção de características (MANUAL)\n",
    "\n",
    "ch = np.load(\"../../datasets/beta/channels.npy\")\n",
    "\n",
    "best_ch = ['PZ', 'PO3', 'PO5', 'PO4', 'PO6', 'POZ', 'O1', 'OZ', 'O2']\n",
    "index_remove = np.where(np.isin(ch, best_ch, invert=True))\n",
    "\n",
    "X_selected_ch = np.delete(X, index_remove, axis=1)\n",
    "print(X_selected_ch.shape)\n",
    "\n",
    "X_selected_ch = X_selected_ch.reshape(X_selected_ch.shape[0], X_selected_ch.shape[1] * X_selected_ch.shape[2])\n",
    "print(X_selected_ch.shape)\n"
   ]
  },
  {
   "cell_type": "markdown",
   "id": "a9dbf3e6",
   "metadata": {},
   "source": [
    "### Seleção de todas as características "
   ]
  },
  {
   "cell_type": "code",
   "execution_count": 171,
   "id": "bb5b75c8",
   "metadata": {},
   "outputs": [
    {
     "name": "stdout",
     "output_type": "stream",
     "text": [
      "(160, 5120)\n"
     ]
    }
   ],
   "source": [
    "# 2 - Vetor de característica para a seleção de características RFE\n",
    "\n",
    "X_reshape = X.reshape(X.shape[0], X.shape[1] * X.shape[2])\n",
    "print(X_reshape.shape)"
   ]
  },
  {
   "cell_type": "markdown",
   "id": "4f933362",
   "metadata": {},
   "source": [
    "### Aplicando SVM para as características selecionadas manualmente"
   ]
  },
  {
   "cell_type": "code",
   "execution_count": 172,
   "id": "9d77a57c",
   "metadata": {},
   "outputs": [
    {
     "name": "stdout",
     "output_type": "stream",
     "text": [
      "Accuracy: 28.12 %\n"
     ]
    }
   ],
   "source": [
    "labels = np.load(\"../../datasets/beta/labels_beta.npy\")\n",
    "\n",
    "X = StandardScaler().fit_transform(X_selected_ch)\n",
    "y = LabelEncoder().fit_transform(labels)\n",
    "\n",
    "# Preencher valores NaN com a media da coluna\n",
    "imputer = SimpleImputer(missing_values=np.nan, strategy='mean')\n",
    "X = imputer.fit_transform(X)\n",
    "\n",
    "\n",
    "X_train, X_test, y_train, y_test = train_test_split(X, y, test_size=0.2, random_state=0)\n",
    "\n",
    "svm_model = SVC(kernel='linear').fit(X_train, y_train)\n",
    "\n",
    "y_pred = svm_model.predict(X_test)\n",
    "\n",
    "print(\"Accuracy: %.2f %%\" % (accuracy_score(y_test, y_pred) * 100))\n"
   ]
  },
  {
   "cell_type": "markdown",
   "id": "a9ed2acb",
   "metadata": {},
   "source": [
    "### Aplicando validação cruzada com SVM para as características selecionadas manualmente"
   ]
  },
  {
   "cell_type": "code",
   "execution_count": 173,
   "id": "ca5474ec",
   "metadata": {},
   "outputs": [
    {
     "name": "stdout",
     "output_type": "stream",
     "text": [
      "Accuracy: 16.88 %\n"
     ]
    }
   ],
   "source": [
    "labels = np.load(\"../../datasets/beta/labels_beta.npy\")\n",
    "\n",
    "X = StandardScaler().fit_transform(X_selected_ch)\n",
    "y = LabelEncoder().fit_transform(labels)\n",
    "\n",
    "\n",
    "# Preencher valores NaN com a media da coluna\n",
    "imputer = SimpleImputer(missing_values=np.nan, strategy='mean')\n",
    "X = imputer.fit_transform(X)\n",
    "\n",
    "skf = StratifiedKFold(n_splits=4, shuffle=True, random_state=42)\n",
    "acuracias = []\n",
    "\n",
    "for treino_idx, teste_idx in skf.split(X, y):\n",
    "\n",
    "    X_treino = X[treino_idx]\n",
    "    y_treino = y[treino_idx]\n",
    "\n",
    "    X_teste = X[teste_idx]\n",
    "    y_teste = y[teste_idx]\n",
    "\n",
    "    svm_model.fit(X_treino, y_treino)\n",
    "    y_pred = svm_model.predict(X_teste)\n",
    "\n",
    "    acuracias.append(accuracy_score(y_teste, y_pred))\n",
    "\n",
    "print(\"Accuracy: %.2f %%\" % (np.mean(acuracias) * 100))"
   ]
  },
  {
   "cell_type": "markdown",
   "id": "61fa2933",
   "metadata": {},
   "source": [
    "### Seleção de características e classificação\n",
    "\n",
    "Como existem diversos eletrodos (canais) que não obtém sinal SSVEP, podemos extrair as características que não contribuem para a classificação dos dados.\n",
    "\n",
    "Podemos utilizar o método `RFE` (*Recursive Feature Elimination*) aplicando por meio de `sklearn.feature_selection.RFE`, aprimorando o parâmetro `n_features_to_select` até obter o melhor resultado de classificação.\n",
    "\n",
    "Para a classificação propriamente dita, é considerado o uso do método `SVM`."
   ]
  },
  {
   "cell_type": "code",
   "execution_count": 174,
   "id": "1b6fd3b0",
   "metadata": {},
   "outputs": [],
   "source": [
    "# Preencher valores NaN com a media da coluna\n",
    "imputer = SimpleImputer(missing_values=np.nan, strategy='mean')\n",
    "X_reshape = imputer.fit_transform(X_reshape)\n",
    "\n",
    "# Normalizando o X\n",
    "X_norm = MinMaxScaler().fit_transform(X_reshape)\n",
    "\n",
    "# svm_model_full = SVC(kernel='linear', C=1, random_state=0, probability=True)\n",
    "rfe = RFECV(SVC(kernel=\"linear\"), min_features_to_select=100, step=5, cv=4, scoring='accuracy')\n",
    "X_full = rfe.fit_transform(X_norm, y)\n"
   ]
  },
  {
   "cell_type": "code",
   "execution_count": 175,
   "id": "c8d93a8a",
   "metadata": {},
   "outputs": [
    {
     "name": "stdout",
     "output_type": "stream",
     "text": [
      "Accuracy: 21.88 %\n"
     ]
    }
   ],
   "source": [
    "X_train_full, X_test_full, y_train_full, y_test_full = train_test_split(X_full, y, test_size=0.2, random_state=0)\n",
    "\n",
    "svm_full_model = SVC(kernel='linear', C=10, random_state=42, probability=True).fit(X_train_full, y_train_full)\n",
    "y_full_pred = svm_full_model.predict(X_test_full)\n",
    "\n",
    "print(\"Accuracy: %.2f %%\" % (accuracy_score(y_test_full, y_full_pred) * 100))"
   ]
  }
 ],
 "metadata": {
  "kernelspec": {
   "display_name": "Python 3 (ipykernel)",
   "language": "python",
   "name": "python3"
  },
  "language_info": {
   "codemirror_mode": {
    "name": "ipython",
    "version": 3
   },
   "file_extension": ".py",
   "mimetype": "text/x-python",
   "name": "python",
   "nbconvert_exporter": "python",
   "pygments_lexer": "ipython3",
   "version": "3.10.12"
  }
 },
 "nbformat": 4,
 "nbformat_minor": 5
}
