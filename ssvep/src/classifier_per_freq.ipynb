{
 "cells": [
  {
   "cell_type": "markdown",
   "metadata": {},
   "source": [
    "## Classificação por isolamento de frequência\n",
    "\n",
    "Neste notebook será realizado um exemplo de classificação, isolando todas as frequências estimuladas no conjunto de dados `AVI SSVEP Single Target`. "
   ]
  },
  {
   "cell_type": "markdown",
   "metadata": {},
   "source": [
    "### Passos para a realização da classificação:\n",
    "\n",
    "1. **Carrega** o arquivo `fif` (`mne.EpochsArray`) dos dados **filtrados**;\n",
    "2. **Determine o limiar** para isolar cada uma das frequências estimuladas. Por exemplo, a faixa de frequência para o estímulo de 6.5 Hz irá resultar em pontos (`PSD`) que irão variar de 6.3 à 6.7 Hz, caso o limiar seja de 0.2 Hz;\n",
    "3. **Obter a \"energia\"** do sinal por meio do cálculo `compute_psd` para cada uma das faixas de frequência que podem ser estimuladas. Por exemplo:\n",
    "    - Obtenha todas as frequências estimuladas. Ex: 6, 6.5, 7, 7.5, 8.2 e 9.3;\n",
    "    - Obtenha o valor mínimo e o máximo para cada frequência utilizando limiar. Ex: (5.8, 6.2), (6.3, 6.7), ...\n",
    "    - Aplique o `compute_psd` para cada tupla (min, max), por meio dos parâmetros `fmin` e `fmax` do mesmo método.\n",
    "4. Com as listas de pontos isoladas e computadas (`PSD`) para cada amostra, aplique um cálculo de característica adequada. Características manuais interessantes para este exemplo podem ser `max_value`, `average` ou `median`. No fim deste passo iremos obter um **vetor de características**;\n",
    "5. Por fim, realize a **classificação**, que será um **cálculo de voto** simples (maior valor é provavelmente o a frequência evocada).\n",
    "\n",
    "A seguir, um exemplo desta classificação com os dados `single target` de `AVI dataset`:"
   ]
  },
  {
   "cell_type": "code",
   "execution_count": 146,
   "metadata": {},
   "outputs": [
    {
     "name": "stdout",
     "output_type": "stream",
     "text": [
      "Reading /home/vinicius/Documents/rp/RP_SSVEP/ssvep/src/mne_data.fif ...\n",
      "Isotrak not found\n",
      "    Found the data of interest:\n",
      "        t =       0.00 ...   29998.05 ms\n",
      "        0 CTF compensation matrices available\n",
      "Not setting metadata\n",
      "84 matching events found\n",
      "No baseline correction applied\n",
      "0 projection items activated\n"
     ]
    },
    {
     "data": {
      "text/html": [
       "<table class=\"table table-hover table-striped table-sm table-responsive small\">\n",
       "    <tr>\n",
       "        <th>Number of events</th>\n",
       "        <td>84</td>\n",
       "    </tr>\n",
       "    <tr>\n",
       "        <th>Events</th>\n",
       "        \n",
       "        <td>10: 12<br/>6: 12<br/>6.5: 12<br/>7: 12<br/>7.5: 12<br/>8.2: 12<br/>9.3: 12</td>\n",
       "        \n",
       "    </tr>\n",
       "    <tr>\n",
       "        <th>Time range</th>\n",
       "        <td>0.000 – 29.998 s</td>\n",
       "    </tr>\n",
       "    <tr>\n",
       "        <th>Baseline</th>\n",
       "        <td>off</td>\n",
       "    </tr>\n",
       "</table>"
      ],
      "text/plain": [
       "<EpochsFIF |  84 events (all good), 0 – 29.998 s, baseline off, ~9.9 MB, data loaded,\n",
       " '6': 12\n",
       " '6.5': 12\n",
       " '7': 12\n",
       " '7.5': 12\n",
       " '8.2': 12\n",
       " '9.3': 12\n",
       " '10': 12>"
      ]
     },
     "execution_count": 146,
     "metadata": {},
     "output_type": "execute_result"
    }
   ],
   "source": [
    "import mne\n",
    "import numpy as np\n",
    "import warnings\n",
    "warnings.filterwarnings('ignore')\n",
    "\n",
    "data = mne.read_epochs(\"./mne_data.fif\")\n",
    "data"
   ]
  },
  {
   "cell_type": "code",
   "execution_count": 147,
   "metadata": {},
   "outputs": [
    {
     "name": "stdout",
     "output_type": "stream",
     "text": [
      "[10.0, 6.0, 6.5, 7.0, 7.5, 8.2, 9.3]\n"
     ]
    }
   ],
   "source": [
    "y = np.load(\"../datasets/avi/single/labels_full.npy\")\n",
    "lista_y = []\n",
    "\n",
    "for i in y:\n",
    "    for j in i:\n",
    "        lista_y.append(j[0])\n",
    "\n",
    "y_set = sorted(set(lista_y))\n",
    "aux = y_set.pop()\n",
    "y_set.insert(0, aux)\n",
    "print(y_set)"
   ]
  },
  {
   "cell_type": "code",
   "execution_count": 148,
   "metadata": {},
   "outputs": [],
   "source": [
    "limiar = 0.2\n",
    "acertos = 0\n",
    "\n",
    "for i in range(len(data)):\n",
    "\n",
    "    dicionario_y = {str(value): index for index, value in enumerate(y_set)}\n",
    "\n",
    "    for frequencia in y_set:\n",
    "        freq_max = frequencia + limiar\n",
    "        freq_min = frequencia - limiar\n",
    "\n",
    "        view = data[i].compute_psd(method='multitaper', fmin=freq_min, fmax=freq_max, verbose=False)\n",
    "\n",
    "        lista_valores = np.array((view)[0][0])\n",
    "\n",
    "        valores_max = np.max(lista_valores)\n",
    "\n",
    "        dicionario_y[str(frequencia)] = valores_max\n",
    "\n",
    "    target_freq = max(dicionario_y, key=dicionario_y.get)\n",
    "    \n",
    "    if float(target_freq) == float(list(data[i].event_id)[0]):\n",
    "        acertos += 1"
   ]
  },
  {
   "cell_type": "code",
   "execution_count": 149,
   "metadata": {},
   "outputs": [
    {
     "name": "stdout",
     "output_type": "stream",
     "text": [
      "Precisao: 86.90\n",
      "Acertos: 73\n"
     ]
    }
   ],
   "source": [
    "# y = np.load(\"../datasets/avi/single/labels_full.npy\")\n",
    "precisao = (acertos * 100) / len(lista_y)\n",
    "print(f\"Precisao: {precisao:.2f}\")\n",
    "print(f\"Acertos: {acertos}\")"
   ]
  },
  {
   "cell_type": "code",
   "execution_count": null,
   "metadata": {},
   "outputs": [],
   "source": []
  }
 ],
 "metadata": {
  "kernelspec": {
   "display_name": "Python 3",
   "language": "python",
   "name": "python3"
  },
  "language_info": {
   "codemirror_mode": {
    "name": "ipython",
    "version": 3
   },
   "file_extension": ".py",
   "mimetype": "text/x-python",
   "name": "python",
   "nbconvert_exporter": "python",
   "pygments_lexer": "ipython3",
   "version": "3.10.12"
  },
  "orig_nbformat": 4
 },
 "nbformat": 4,
 "nbformat_minor": 2
}
