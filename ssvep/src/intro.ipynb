{
 "cells": [
  {
   "cell_type": "markdown",
   "id": "f3874aef",
   "metadata": {},
   "source": [
    "#### Descrição dos artigos utilizados no trabalho."
   ]
  },
  {
   "cell_type": "markdown",
   "id": "b4dc1005",
   "metadata": {},
   "source": [
    "#### Artigo 1: A dataset of EEG signals from a single-channel SSVEP-based brain computer interface.\n",
    "\n",
    "- Descrição de \"A dataset of EEG signals from a single-channel SSVEP-based brain computer interface\":\n",
    "    - Estudo realizado pelos grupos serão apresentados no dia 28/08, juntamnete com a ideia (ou código) do carregamento e preparação do dataset\n",
    "- Descrição de \"BETA: A Large Benchmark Database Toward SSVEP-BCI Application\"\n",
    "    - Estudo realizado pelos grupos serão apresentados no dia 31/08 (ou 04/09), juntamnete com a ideia (ou código) do carregamento e preparação do dataset"
   ]
  }
 ],
 "metadata": {
  "kernelspec": {
   "display_name": "Python 3 (ipykernel)",
   "language": "python",
   "name": "python3"
  },
  "language_info": {
   "codemirror_mode": {
    "name": "ipython",
    "version": 3
   },
   "file_extension": ".py",
   "mimetype": "text/x-python",
   "name": "python",
   "nbconvert_exporter": "python",
   "pygments_lexer": "ipython3",
   "version": "3.10.12"
  }
 },
 "nbformat": 4,
 "nbformat_minor": 5
}
