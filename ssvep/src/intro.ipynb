{
 "cells": [
  {
   "cell_type": "markdown",
   "id": "f3874aef",
   "metadata": {},
   "source": [
    "#### Descrição dos artigos utilizados no trabalho."
   ]
  },
  {
   "cell_type": "markdown",
   "id": "b4dc1005",
   "metadata": {},
   "source": [
    "#### Artigo 1: A dataset of EEG signals from a single-channel SSVEP-based brain computer interface."
   ]
  }
 ],
 "metadata": {
  "kernelspec": {
   "display_name": "Python 3 (ipykernel)",
   "language": "python",
   "name": "python3"
  },
  "language_info": {
   "codemirror_mode": {
    "name": "ipython",
    "version": 3
   },
   "file_extension": ".py",
   "mimetype": "text/x-python",
   "name": "python",
   "nbconvert_exporter": "python",
   "pygments_lexer": "ipython3",
   "version": "3.10.12"
  }
 },
 "nbformat": 4,
 "nbformat_minor": 5
}
