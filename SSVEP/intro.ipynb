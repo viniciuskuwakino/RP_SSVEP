{
 "cells": [
  {
   "cell_type": "markdown",
   "metadata": {},
   "source": [
    "# Descrição de artigos e documentos\n",
    "\n",
    "Este documento apresenta artigos e projetos que foram realizados para a criação de base de dados envolvendo o paradigma de Interface Cérebro-Computador chamado SSVEP (*Steady State Visually Evoked Potential*)."
   ]
  },
  {
   "cell_type": "markdown",
   "metadata": {},
   "source": [
    "### Descrição da base de dados intitulada \"**A dataset of EEG signals from a single-channel SSVEP-based brain computer interface**\"\n",
    "\n",
    "O acesso a base de dados pode ser realizada em: http://www.setzner.com/avi-ssvep-dataset/\n",
    "\n",
    "A base possui dados EEG mensurados de participantes saudáveis, sendo expostos em alvos cintilantes para a obtenção de respostas SSVEP. Os dados foram gravados utilizando três eletrodos (`Oz`, `Fpz` e `Pz`) posicionados de acordo com o padrão 10-20, tal que os dados obtidos do eletrodo `Oz` são os únicos gravados na base de dados. O eletrodo `Fpz` foi utilizado como referência e o eletrodo `PZ` para aterramento. Foi utilizado para a geração dos estı́mulos um monitor LCD BenQ XL2420T com taxa de atualização a 120 Hz. O equipamento EEG utilizado foi o g.USBamp que possui uma taxa de amostragem de 512 Hz e eletrodos banhados a ouro, umidificados com gel eletrolı́tico. Os participantes tiveram que se concentrar durante o experimento em alvos de 2,89 cm² na tela do monitor, sentados a uma distância de 60 cm do alvo.\n",
    "\n",
    "Foram realizados dois tipos de experimentos para compor esta base de dados. O primeiro foi realizado com um único alvo cintilante (*Single Target* - ST). Quatro participantes foram utilizados e cada um foi submetido a uma única sessão, focando em um único alvo durante trinta segundos, por quatro vezes (1 sessão com 4 ensaios durante 30 segundos cada). As frequências escolhidas em cada ensaio foram aleatórias, porém são as mesmas para cada participante. O motivo desta experimentação com um único alvo cintilante foi para verificar a existência do sinal SSVEP. Já o segundo experimento, foi realizado com múltiplos alvos cintilantes (*Multi-Target* - MT), somando sete alvos em diferentes frequências. Cinco participantes foram utilizados e cada um foi submetido a duas sessões, focando em múltiplos alvos durante 16 segundos, por 10 vezes (2 sessões com 10 ensaios durante 16 segundos cada). Em cada ensaio o participante deveria focar em um dos alvos cintilantes informado, sendo que a sequência informada também foi aleatória porém a mesma para os 5 participantes.\n",
    "\n",
    "ST *targets*: 6.0, 6.5, 7.0, 7.5, 8.2, 9.3 e 10.0\n",
    "MT *targets*: "
   ]
  },
  {
   "cell_type": "markdown",
   "metadata": {},
   "source": [
    "### Descrição do *dataset* intitulado \"**BETA: A Large Benchmark Database Toward SSVEP-BCI Application**\"\n",
    "\n",
    "O acesso a base de dados e o artigo podem ser realizados em: https://www.frontiersin.org/articles/10.3389/fnins.2020.00627/full"
   ]
  },
  {
   "cell_type": "markdown",
   "metadata": {},
   "source": [
    "### Descrição das atividades\n",
    "\n",
    "Estudo realizado pelos grupos serão apresentados a partir do dia 28/08, juntamente com a ideia (ou código) do carregamento e preparação do *dataset*."
   ]
  }
 ],
 "metadata": {
  "language_info": {
   "name": "python"
  },
  "orig_nbformat": 4
 },
 "nbformat": 4,
 "nbformat_minor": 2
}
