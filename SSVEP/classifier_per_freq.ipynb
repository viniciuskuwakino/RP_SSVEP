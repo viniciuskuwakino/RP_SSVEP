{
 "cells": [
  {
   "cell_type": "markdown",
   "metadata": {},
   "source": [
    "## Classificação por isolamento de frequência\n",
    "\n",
    "Neste notebook será realizado um exemplo de classificação, isolando todas as frequências estimuladas no conjunto de dados `AVI SSVEP Single Target`. "
   ]
  },
  {
   "cell_type": "markdown",
   "metadata": {},
   "source": [
    "### Passos para a realização da classificação:\n",
    "\n",
    "1. **Carrega** o arquivo `fif` (`mne.EpochsArray`) dos dados **filtrados**;\n",
    "2. **Determine o limiar** para isolar cada uma das frequências estimuladas. Por exemplo, a faixa de frequência para o estímulo de 6.5 Hz irá resultar em pontos (`PSD`) que irão variar de 6.3 à 6.7 Hz, caso o limiar seja de 0.2 Hz;\n",
    "3. **Obter a \"energia\"** do sinal por meio do cálculo `compute_psd` para cada uma das faixas de frequência que podem ser estimuladas. Por exemplo:\n",
    "    - Obtenha todas as frequências estimuladas. Ex: 6, 6.5, 7, 7.5, 8.2 e 9.3;\n",
    "    - Obtenha o valor mínimo e o máximo para cada frequência utilizando limiar. Ex: (5.8, 6.2), (6.3, 6.7), ...\n",
    "    - Aplique o `compute_psd` para cada tupla (min, max), por meio dos parâmetros `fmin` e `fmax` do mesmo método.\n",
    "4. Com as listas de pontos isoladas e computadas (`PSD`) para cada amostra, aplique um cálculo de característica adequada. Características manuais interessantes para este exemplo podem ser `max_value`, `average` ou `median`. No fim deste passo iremos obter um **vetor de características**;\n",
    "5. Por fim, realize a **classificação**, que será um **cálculo de voto** simples (maior valor é provavelmente o a frequência evocada).\n",
    "\n",
    "A seguir, um exemplo desta classificação com os dados `single target` de `AVI dataset`:"
   ]
  },
  {
   "cell_type": "code",
   "execution_count": 1,
   "metadata": {},
   "outputs": [
    {
     "name": "stdout",
     "output_type": "stream",
     "text": [
      "Reading /home/rhubner/sandbox/PSB/SSVEP/datasets/avi/single/mne_data.fif ...\n",
      "Isotrak not found\n",
      "    Found the data of interest:\n",
      "        t =       0.00 ...   29998.05 ms\n",
      "        0 CTF compensation matrices available\n",
      "Not setting metadata\n",
      "84 matching events found\n",
      "No baseline correction applied\n",
      "0 projection items activated\n"
     ]
    },
    {
     "name": "stderr",
     "output_type": "stream",
     "text": [
      "/tmp/ipykernel_10644/1466519796.py:4: RuntimeWarning: This filename (datasets/avi/single/mne_data.fif) does not conform to MNE naming conventions. All epochs files should end with -epo.fif, -epo.fif.gz, _epo.fif or _epo.fif.gz\n",
      "  data = mne.read_epochs(\"datasets/avi/single/mne_data.fif\")\n"
     ]
    }
   ],
   "source": [
    "import mne\n",
    "\n",
    "# tarefa 1\n",
    "data = mne.read_epochs(\"datasets/avi/single/mne_data.fif\")"
   ]
  },
  {
   "cell_type": "code",
   "execution_count": 2,
   "metadata": {},
   "outputs": [
    {
     "name": "stdout",
     "output_type": "stream",
     "text": [
      "(84, 1, 15360)\n"
     ]
    },
    {
     "data": {
      "text/html": [
       "<table class=\"table table-hover table-striped table-sm table-responsive small\">\n",
       "    <tr>\n",
       "        <th>Number of events</th>\n",
       "        <td>84</td>\n",
       "    </tr>\n",
       "    <tr>\n",
       "        <th>Events</th>\n",
       "        \n",
       "        <td>10: 12<br/>6: 12<br/>6.5: 12<br/>7: 12<br/>7.5: 12<br/>8.2: 12<br/>9.3: 12</td>\n",
       "        \n",
       "    </tr>\n",
       "    <tr>\n",
       "        <th>Time range</th>\n",
       "        <td>0.000 – 29.998 s</td>\n",
       "    </tr>\n",
       "    <tr>\n",
       "        <th>Baseline</th>\n",
       "        <td>off</td>\n",
       "    </tr>\n",
       "</table>"
      ],
      "text/plain": [
       "<EpochsFIF |  84 events (all good), 0 – 29.998 s, baseline off, ~9.9 MB, data loaded,\n",
       " '6': 12\n",
       " '6.5': 12\n",
       " '7': 12\n",
       " '7.5': 12\n",
       " '8.2': 12\n",
       " '9.3': 12\n",
       " '10': 12>"
      ]
     },
     "execution_count": 2,
     "metadata": {},
     "output_type": "execute_result"
    }
   ],
   "source": [
    "# TAREFA 2\n",
    "threshold = 0.25\n",
    "\n",
    "# entendimento dos dados\n",
    "print(data.get_data().shape)\n",
    "data"
   ]
  },
  {
   "cell_type": "code",
   "execution_count": 3,
   "metadata": {},
   "outputs": [
    {
     "name": "stdout",
     "output_type": "stream",
     "text": [
      "Possíveis alvos: [6.0, 6.5, 7.0, 7.5, 8.2, 9.3, 10.0]\n",
      "Formato dos dados calculados: (84, 7, 1, 1, 15)\n"
     ]
    }
   ],
   "source": [
    "# TAREFA 3\n",
    "\n",
    "import numpy as np\n",
    "\n",
    "targets = [float(item) for item in data.event_id.keys()]\n",
    "print(\"Possíveis alvos:\", targets)\n",
    "\n",
    "features = list()\n",
    "for i in range(len(data)):\n",
    "    sample = list()\n",
    "    for target in targets:\n",
    "        fmin = target - threshold\n",
    "        fmax = target + threshold\n",
    "        sample.append(data[i].compute_psd(method='multitaper', fmin=fmin,\n",
    "                                          fmax=fmax, verbose=False))\n",
    "    features.append(sample)\n",
    "\n",
    "X = np.array(features)\n",
    "print(\"Formato dos dados calculados:\", X.shape)"
   ]
  },
  {
   "cell_type": "code",
   "execution_count": 4,
   "metadata": {},
   "outputs": [
    {
     "name": "stdout",
     "output_type": "stream",
     "text": [
      "Formato padronizado dos dados com PSD calculado: (84, 7, 15)\n"
     ]
    }
   ],
   "source": [
    "# organizando os dados\n",
    "\n",
    "X = X.reshape(X.shape[0], X.shape[1], X.shape[-1])\n",
    "print(\"Formato padronizado dos dados com PSD calculado:\", X.shape)"
   ]
  },
  {
   "cell_type": "code",
   "execution_count": 5,
   "metadata": {},
   "outputs": [
    {
     "data": {
      "text/plain": [
       "(84, 7)"
      ]
     },
     "execution_count": 5,
     "metadata": {},
     "output_type": "execute_result"
    }
   ],
   "source": [
    "# TAREFA 4\n",
    "\n",
    "# aplicando a característica de \"maior valor\"\n",
    "max_values = np.max(X, axis=-1)\n",
    "max_values.shape"
   ]
  },
  {
   "cell_type": "code",
   "execution_count": 6,
   "metadata": {},
   "outputs": [
    {
     "name": "stdout",
     "output_type": "stream",
     "text": [
      "[10.  10.  10.   6.5  6.5  6.5  6.   6.   6.   7.5  7.5  7.5  7.   7.\n",
      "  7.   8.2  8.2  8.2  9.3  9.3  9.3 10.  10.  10.   6.5  6.5  6.5  6.\n",
      "  6.   6.   7.5  7.5  7.5  7.   7.   7.   8.2  8.2  8.2  9.3  9.3  9.3\n",
      " 10.  10.  10.   6.5  6.5  6.5  6.   6.   6.   7.5  7.5  7.5  7.   7.\n",
      "  7.   8.2  8.2  8.2  9.3  9.3  9.3 10.  10.  10.   6.5  6.5  6.5  6.\n",
      "  6.   6.   7.5  7.5  7.5  7.   7.   7.   8.2  8.2  8.2  9.3  9.3  9.3] (84,) [6.0, 6.5, 7.0, 7.5, 8.2, 9.3, 10.0]\n",
      "\n",
      "Porcentagem de acerto: 85.71%\n"
     ]
    }
   ],
   "source": [
    "# TAREFA 5\n",
    "\n",
    "y = np.load(\"datasets/avi/single/labels_formated.npy\")\n",
    "\n",
    "# entendimento dos dados\n",
    "print(y, y.shape, targets)\n",
    "\n",
    "# classificação pelo \"voto\" do maior valor\n",
    "i_max = max_values.argmax(axis=-1)\n",
    "hits = [1 for i in range(len(i_max)) if targets[i_max[i]] == y[i]]\n",
    "acc = 100 * sum(hits) / len(y)\n",
    "print(f'\\nPorcentagem de acerto: {acc:.2f}%')"
   ]
  }
 ],
 "metadata": {
  "kernelspec": {
   "display_name": "venv",
   "language": "python",
   "name": "python3"
  },
  "language_info": {
   "codemirror_mode": {
    "name": "ipython",
    "version": 3
   },
   "file_extension": ".py",
   "mimetype": "text/x-python",
   "name": "python",
   "nbconvert_exporter": "python",
   "pygments_lexer": "ipython3",
   "version": "3.11.4"
  },
  "orig_nbformat": 4
 },
 "nbformat": 4,
 "nbformat_minor": 2
}
