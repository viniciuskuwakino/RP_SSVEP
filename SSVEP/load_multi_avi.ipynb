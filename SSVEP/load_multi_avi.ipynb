{
 "cells": [
  {
   "cell_type": "code",
   "execution_count": 1,
   "metadata": {},
   "outputs": [],
   "source": [
    "# imports\n",
    "\n",
    "from scipy.io import loadmat\n",
    "import numpy as np"
   ]
  },
  {
   "cell_type": "code",
   "execution_count": 2,
   "metadata": {},
   "outputs": [],
   "source": [
    "# pré-carregamento\n",
    "\n",
    "avi_data = list()\n",
    "for i in range(1,6):\n",
    "    avi_data.append(loadmat(f\"datasets/avi/multi/Sub{i}_1_multitarget.mat\"))"
   ]
  },
  {
   "cell_type": "code",
   "execution_count": 3,
   "metadata": {},
   "outputs": [
    {
     "name": "stdout",
     "output_type": "stream",
     "text": [
      "(5, 8192, 10)\n",
      "Divisão dos dados:\n",
      "(8192, 10)\n",
      "(8192, 10)\n",
      "(8192, 10)\n",
      "(8192, 10)\n",
      "(8192, 10)\n",
      "\n",
      "Divisão dos rótulos (sequências):\n",
      "[7.5 8.2 7.  8.2 6.  7.5 6.  6.  8.2 8.2]\n",
      "[7.5 8.2 7.  8.2 6.  7.5 6.  6.  8.2 8.2]\n",
      "[7.5 8.2 7.  8.2 6.  7.5 6.  6.  8.2 8.2]\n",
      "[7.5 8.2 7.  8.2 6.  7.5 6.  6.  8.2 8.2]\n",
      "[7.5 8.2 7.  8.2 6.  7.5 6.  6.  8.2 8.2]\n"
     ]
    }
   ],
   "source": [
    "# extração direta dos dados\n",
    "\n",
    "X = [d['Data'][0][0][7] for d in avi_data]\n",
    "y = [d['Data'][0][0][8][0] for d in avi_data]\n",
    "\n",
    "print(np.array(X).shape)\n",
    "\n",
    "print(\"Divisão dos dados:\")\n",
    "for data in X:\n",
    "    print(data.shape)\n",
    "\n",
    "print(\"\\nDivisão dos rótulos (sequências):\")\n",
    "for data in y:\n",
    "    print(data)"
   ]
  },
  {
   "cell_type": "code",
   "execution_count": null,
   "metadata": {},
   "outputs": [],
   "source": []
  }
 ],
 "metadata": {
  "kernelspec": {
   "display_name": "Python 3 (ipykernel)",
   "language": "python",
   "name": "python3"
  },
  "language_info": {
   "codemirror_mode": {
    "name": "ipython",
    "version": 3
   },
   "file_extension": ".py",
   "mimetype": "text/x-python",
   "name": "python",
   "nbconvert_exporter": "python",
   "pygments_lexer": "ipython3",
   "version": "3.11.4"
  }
 },
 "nbformat": 4,
 "nbformat_minor": 4
}
