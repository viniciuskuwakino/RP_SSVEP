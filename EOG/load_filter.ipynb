{
 "cells": [
  {
   "cell_type": "markdown",
   "metadata": {},
   "source": [
    "## Carregamento e filtragem dos dados\n",
    "\n",
    "Este notebook é destinado a realizar o **carregamento dos dados** e posteriormente a **filtragem temporal**\n",
    "\n",
    "Uma boa prática neste notebook, é realizar a simulação da comunicação *online* dos dados, para que esta seja utilizada futuramente para a classficação de atividades em tempo real."
   ]
  },
  {
   "cell_type": "code",
   "execution_count": null,
   "metadata": {},
   "outputs": [],
   "source": []
  }
 ],
 "metadata": {
  "language_info": {
   "name": "python"
  }
 },
 "nbformat": 4,
 "nbformat_minor": 2
}
