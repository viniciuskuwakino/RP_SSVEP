{
 "cells": [
  {
   "cell_type": "markdown",
   "id": "af0673d7",
   "metadata": {},
   "source": [
    "### (Arquivo2) Validação dos dados:\n",
    "\n",
    "Realização das etapas:\n",
    "\n",
    "- Criar vetores de caracteristicas: VAR, RMS, ...(tempo) e FMD, FMN, ...(frequencia)\n",
    "- Aplicar 1 metodo de selecao de caracteristicas (exemplo: Select Kbest)\n",
    "- Classificacao (SVM)"
   ]
  }
 ],
 "metadata": {
  "kernelspec": {
   "display_name": "Python 3 (ipykernel)",
   "language": "python",
   "name": "python3"
  },
  "language_info": {
   "codemirror_mode": {
    "name": "ipython",
    "version": 3
   },
   "file_extension": ".py",
   "mimetype": "text/x-python",
   "name": "python",
   "nbconvert_exporter": "python",
   "pygments_lexer": "ipython3",
   "version": "3.10.12"
  }
 },
 "nbformat": 4,
 "nbformat_minor": 5
}
