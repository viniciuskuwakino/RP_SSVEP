{
 "cells": [
  {
   "cell_type": "markdown",
   "id": "c2e2e273",
   "metadata": {},
   "source": [
    "### (Arquivo1) Preparação dos dados:\n",
    "\n",
    "Realização das etapas:\n",
    "- Carregar dataset\n",
    "- Aplicar filtros temporais\n",
    "- Realizar segmentações (tempo | frequencia)"
   ]
  },
  {
   "cell_type": "code",
   "execution_count": 1,
   "id": "9ae5abf7",
   "metadata": {},
   "outputs": [
    {
     "data": {
      "text/plain": [
       "((28, 1000, 4), (28, 1000, 4))"
      ]
     },
     "execution_count": 1,
     "metadata": {},
     "output_type": "execute_result"
    }
   ],
   "source": [
    "# Carregamento dos datasets\n",
    "\n",
    "import numpy as np\n",
    "\n",
    "\n",
    "data1 = np.load('datasets/Gabi.npy')\n",
    "data2 = np.load('datasets/Jesse.npy')\n",
    "\n",
    "data1.shape, data2.shape\n",
    "# 28 -> amostras de 4 classes (movimentos) (7 instancias de cada classe)\n",
    "# 1000 -> 5segundos * 200HZ (cada uma dos movimentos em uma taxa de amostragem de 200HZ)\n",
    "# 4 -> eletrodos (os dois primeiros eletrodos são os que possuem dados, exemplo: print(data1))"
   ]
  },
  {
   "cell_type": "code",
   "execution_count": 2,
   "id": "0a7bdc83",
   "metadata": {},
   "outputs": [
    {
     "name": "stdout",
     "output_type": "stream",
     "text": [
      "(28, 1000, 2) (28, 1000, 2)\n",
      "(2, 28, 1000, 2)\n",
      "(2, 28, 2, 1000)\n"
     ]
    }
   ],
   "source": [
    "# Correção do número de eletrodos e unificação\n",
    "\n",
    "# Como dito anteriormente, os dois primeiros eletrodos são funcionais\n",
    "data1 = data1[:,:,:2]\n",
    "data2 = data2[:,:,:2]\n",
    "\n",
    "print(data1.shape, data2.shape)\n",
    "\n",
    "data = np.array([data1, data2])\n",
    "print(data.shape)\n",
    "\n",
    "# Colocando os dados na dimensão final\n",
    "data = data.transpose(0, 1, 3, 2)\n",
    "print(data.shape)"
   ]
  },
  {
   "cell_type": "code",
   "execution_count": 3,
   "id": "85306d48",
   "metadata": {},
   "outputs": [],
   "source": [
    "# Funções para aplicação dos filtros temporais\n",
    "\n",
    "%matplotlib inline\n",
    "import matplotlib.pyplot as plt\n",
    "from matplotlib import rcParams\n",
    "import numpy as np\n",
    "from scipy import signal\n",
    "from sklearn.preprocessing import LabelEncoder\n",
    "import mne\n",
    "\n",
    "\n",
    "# definições de filtros\n",
    "\n",
    "def butter_bandpass(data, lowcut, highcut, fs=512, order=4):\n",
    "    nyq = fs * 0.5\n",
    "    low = lowcut / nyq\n",
    "    high = highcut / nyq\n",
    "    b, a = signal.butter(order, [low, high], btype='bandpass')\n",
    "    return signal.filtfilt(b, a, data)\n",
    "\n",
    "\n",
    "def butter_notch(data, cutoff, var=1, fs=512, order=4):\n",
    "    nyq = fs * 0.5\n",
    "    low = (cutoff - var) / nyq\n",
    "    high = (cutoff + var) / nyq\n",
    "    b, a = signal.iirfilter(order, [low, high], btype='bandstop', ftype=\"butter\")\n",
    "    return signal.filtfilt(b, a, data)"
   ]
  },
  {
   "cell_type": "markdown",
   "id": "f83b2542",
   "metadata": {},
   "source": [
    "###  Tarefa 1: Realizem a alicacao dos filtros para toda a base."
   ]
  },
  {
   "cell_type": "code",
   "execution_count": 4,
   "id": "95cee9d8",
   "metadata": {},
   "outputs": [],
   "source": [
    "# Aplicação dos filtros de 5 - 50HZ\n",
    "\n",
    "# código..."
   ]
  },
  {
   "cell_type": "code",
   "execution_count": 5,
   "id": "efe44430",
   "metadata": {},
   "outputs": [
    {
     "data": {
      "text/plain": [
       "(56, 2, 1000)"
      ]
     },
     "execution_count": 5,
     "metadata": {},
     "output_type": "execute_result"
    }
   ],
   "source": [
    "# Juntando participantes (apenas para demonstracao)\n",
    "\n",
    "data = data.reshape(data.shape[0] * data.shape[1], data.shape[2], data.shape[3])\n",
    "data.shape"
   ]
  },
  {
   "cell_type": "code",
   "execution_count": 6,
   "id": "89e4b638",
   "metadata": {},
   "outputs": [
    {
     "name": "stdout",
     "output_type": "stream",
     "text": [
      "Shape inicial: (56, 2, 1000)\n",
      "Formato (shape) dos dados depois da divisão de janelas\n",
      "Dominio do tempo: (56, 2, 33, 64) - (classes+participantes, canais, janelas, linhas)\n",
      "Dominio da frequência:  (56, 2, 33, 33) - (classes+ensaios, canais, janelas, linhas)\n"
     ]
    }
   ],
   "source": [
    "# Aplicação da segmentação (dominio, tempo e frequencia)\n",
    "\n",
    "from scipy.signal import stft\n",
    "\n",
    "step = 29 # Pula a cada deslizamento\n",
    "segment = 64\n",
    "print('Shape inicial:', data.shape)\n",
    "\n",
    "n_win = int((data.shape[-1] - segment) / step) + 1\n",
    "ids = np.arange(n_win) * step\n",
    "\n",
    "# Janelas do dado no dominio do tempo\n",
    "chunks_time = np.array([data[:,:,k:(k + segment)] for k in ids]).transpose(1, 2, 0, 3)\n",
    "\n",
    "# Janelas do dado no domínio da frequência\n",
    "_, _, chunks_freq = stft(data, fs=200, nperseg=64, noverlap=32)\n",
    "chunks_freq = np.swapaxes(chunks_freq, 2, 3)\n",
    "\n",
    "print('Formato (shape) dos dados depois da divisão de janelas')\n",
    "print(f'Dominio do tempo: {chunks_time.shape} - (classes+participantes, canais, janelas, linhas)')\n",
    "print(f'Dominio da frequência:  {chunks_freq.shape} - (classes+ensaios, canais, janelas, linhas)')"
   ]
  },
  {
   "cell_type": "markdown",
   "id": "cda376c2",
   "metadata": {},
   "source": [
    "### Tarefa 2: Separar os participantes e armazenar os dados em disco para a execução das próximas tarefas."
   ]
  }
 ],
 "metadata": {
  "kernelspec": {
   "display_name": "Python 3 (ipykernel)",
   "language": "python",
   "name": "python3"
  },
  "language_info": {
   "codemirror_mode": {
    "name": "ipython",
    "version": 3
   },
   "file_extension": ".py",
   "mimetype": "text/x-python",
   "name": "python",
   "nbconvert_exporter": "python",
   "pygments_lexer": "ipython3",
   "version": "3.10.12"
  }
 },
 "nbformat": 4,
 "nbformat_minor": 5
}
