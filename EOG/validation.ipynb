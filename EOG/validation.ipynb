{
 "cells": [
  {
   "cell_type": "markdown",
   "id": "9e83de66",
   "metadata": {},
   "source": [
    "### (Arquivo2) Validação dos dados:\n",
    "\n",
    "Incluem: aplicacao e selecao de caracteristicas e classificacao dos dados.\n",
    "\n",
    "Realização das etapas:\n",
    "\n",
    "- Criar vetores de caracteristicas: VAR, RMS, ...(tempo) e FMD, FMN, ...(frequencia)\n",
    "- Aplicar 1 metodo de selecao de caracteristicas (exemplo: Select Kbest)\n",
    "- Classificacao (SVM)"
   ]
  },
  {
   "cell_type": "markdown",
   "id": "ca6e99f5",
   "metadata": {},
   "source": [
    "Uma característica é uma propriedade individual mensurável ou característica de um fenômeno que está sendo observado. Em nosso caso de EOG, uma característica pode ser extraída no domínio do tempo ou no domínio da frequência. As características a seguir foram retiradas do artigo *EMG Feature Extraction for Tolerance of White Gaussian Noise* \\[1\\].\n",
    "\n",
    "### Domínio do tempo\n",
    "\n",
    "1. Willison Amplitude (WAMP)\n",
    "\n",
    "    > $ \\sum_{i=1}^{N-1}f(|x_i - x_{i+1}|) $\n",
    "    \n",
    "    > $ f(x) = \\begin{cases} 1 & \\text{if } x \\gt threshold \\\\ 0 & \\text{otherwise} \\end{cases} $\n",
    "\n",
    "2. Variance of EMG (VAR)\n",
    "\n",
    "    > $ \\frac{1}{N-1}\\sum_{i=1}^{N}x_i^2 $\n",
    "\n",
    "3. Root Mean Square (RMS)\n",
    "\n",
    "    > $ \\sqrt{\\frac{1}{N}\\sum_{i=1}^{N}|x_i|^2} $\n",
    "\n",
    "4. Waveform Length (WL)\n",
    "    \n",
    "    > $ \\sum_{i=1}^{N-1}|x_{i+1} - x_i| $\n",
    "\n",
    "5. Zero Crossing (ZC)\n",
    "\n",
    "    > $ \\sum_{i=1}^{N}sgn(x_i) $\n",
    "    \n",
    "    > $ sgn(x) = \\begin{cases} 1 & \\text{if } x_i * x_{i+1} \\leq 0 \\\\ 0 & \\text{otherwise} \\end{cases} $\n",
    "\n",
    "### Domínio da frequência\n",
    "\n",
    "1. Median Frequency (FMD)\n",
    "\n",
    "    > $ \\frac{1}{2}\\sum_{j=1}^{M}PSD_j $\n",
    "\n",
    "2. Mean Frequency (FMN)\n",
    "\n",
    "    > $ \\sum_{j=1}^{M}f_j PSD_j \\Big{/} \\sum_{j=1}^{M}PSD_j $\n",
    "    \n",
    "    > $ f_j = j * SampleRate \\Big{/} 2 * M $\n",
    "\n",
    "3. Modified Median Frequency (MMDF)\n",
    "\n",
    "    > $ \\frac{1}{2}\\sum_{j=1}^{M}A_j $\n",
    "    \n",
    "    > $ A_j = Amplitude\\ do\\ espectro\\ j $\n",
    "\n",
    "4. Modified Frequency Mean (MMNF)\n",
    "\n",
    "    > $ \\sum_{j=1}^{M}f_jAj \\Big{/} \\sum_{j=1}^{M}Aj $\n",
    "\n",
    "\n",
    "\\[1\\] Phinyomark, Angkoon & Limsakul, Chusak & Phukpattaranont, P.. (2008). EMG Feature Extraction for Tolerance of White Gaussian Noise.\n",
    "[Disponível neste link](https://www.researchgate.net/publication/263765853_EMG_Feature_Extraction_for_Tolerance_of_White_Gaussian_Noise)\n",
    "\n",
    "**Desafio 1**: Descrever as características de acordo com o artigo citado e outros disponíveis relacionados. O que está querendo \"ser visto\" em cada característica? Qual é o significado matemático de cada uma delas?"
   ]
  },
  {
   "cell_type": "markdown",
   "id": "af07676b",
   "metadata": {},
   "source": [
    "### Aplicando as características\n",
    "\n",
    "É necessário implementar as características, geralmente em formato de funções ou métodos, para que seja possível aplicar tais funções aos dados de entrada e obter as características resultantes. A seguir temos a implementação das características **VAR & RMS** (domínio do tempo) e **FDM & MMDF** (domínio da frequência)."
   ]
  },
  {
   "cell_type": "code",
   "execution_count": 1,
   "id": "2095491a",
   "metadata": {},
   "outputs": [],
   "source": [
    "from math import prod\n",
    "import numpy as np\n",
    "\n",
    "# funções auxiliares\n",
    "def PSD(w):\n",
    "    ''' definição da função PSD para o sinal no domínio da frequência '''\n",
    "    return np.abs(w) ** 2\n",
    "\n",
    "\n",
    "# funções de extração de características\n",
    "\n",
    "def var(x):\n",
    "    return np.sum(x ** 2, axis=-1) / (np.prod(x.shape) - 1)\n",
    "\n",
    "def rms(x):\n",
    "    return np.sqrt(np.sum(np.abs(x) ** 2, axis=-1) / (np.prod(x.shape) - 1))\n",
    "\n",
    "def log_det(x):\n",
    "    from math import e\n",
    "    return e ** (np.sum(np.log10(np.abs(x)), axis=-1) /  np.prod(x.shape))\n",
    "\n",
    "def fmd(w):\n",
    "    return np.sum(PSD(w), axis=-1) / 2\n",
    "\n",
    "def mmdf(w):\n",
    "    return np.sum(np.abs(w), axis=-1) / 2"
   ]
  },
  {
   "cell_type": "markdown",
   "id": "eb6e8cb2",
   "metadata": {},
   "source": [
    "**Tarefa 2:** Implemente todas as características apresentadas neste tutorial em formato de funções. Sinta-se livre também para buscar e implementar características além das apresentadas, citando as fontes de tais características."
   ]
  },
  {
   "cell_type": "markdown",
   "id": "799d6b7c",
   "metadata": {},
   "source": [
    "### Vetor de características\n",
    "\n",
    "Ao final da implementação e seleção das características, deve ser escolhida as características e então teremos um vetor com todas elas implementadas.\n",
    "\n",
    "O vetor de características estará organizado da seguinte forma (exemplo p/ VAR, RMS, RDM e MMDF):\n",
    "\n",
    "| ID sample | VAR1 | RMS1 | FMD1 | MMDF1 | VAR2 | RMS2 | FMD2 | MMDF2 | Classe |\n",
    "|:---------:|:----:|:----:|:----:|:-----:|------|------|------|-------|:------:|\n",
    "|     1     |  v1  |  v1  |  v1  |   v1  | v1   | v1   | v1   | v1    |    0   |\n",
    "|     2     |  v2  |  v2  |  v2  |   v2  | v2   | v2   | v2   | v2    |    0   |\n",
    "|    ...    |  ... |  ... |  ... |  ...  | ...  | ...  | ...  | ...   |   ...  |\n",
    "|     N     |  vN  |  vN  |  vN  |   vN  | vN   | vN   | vN   | vN    |    7   |"
   ]
  },
  {
   "cell_type": "markdown",
   "id": "6b4ec94a",
   "metadata": {},
   "source": [
    "### Implementação do vetor"
   ]
  },
  {
   "cell_type": "code",
   "execution_count": 2,
   "id": "028400d6",
   "metadata": {},
   "outputs": [
    {
     "name": "stdout",
     "output_type": "stream",
     "text": [
      "Shape dos Vetores originais: Tempo:(56, 2, 33, 64) e Freq:(56, 2, 33, 33)\n"
     ]
    },
    {
     "data": {
      "text/plain": [
       "((56, 2, 33), (56, 2, 33), (56, 2, 33), (56, 2, 33))"
      ]
     },
     "execution_count": 2,
     "metadata": {},
     "output_type": "execute_result"
    }
   ],
   "source": [
    "# Carregando dados do prepare.ipynb\n",
    "x = np.load(\"datasets/segmented_data_t.npy\")\n",
    "w = np.load(\"datasets/segmented_data_f.npy\")\n",
    "\n",
    "print(f\"Shape dos Vetores originais: Tempo:{x.shape} e Freq:{w.shape}\")\n",
    "\n",
    "# Aplicando as caracteristicas\n",
    "data_var = var(x)\n",
    "data_rms = rms(x)\n",
    "\n",
    "data_fmd = fmd(x)\n",
    "data_mmdf = mmdf(x)\n",
    "\n",
    "data_var.shape, data_rms.shape, data_fmd.shape, data_mmdf.shape\n"
   ]
  },
  {
   "cell_type": "code",
   "execution_count": 3,
   "id": "81eef680",
   "metadata": {},
   "outputs": [
    {
     "name": "stdout",
     "output_type": "stream",
     "text": [
      "(56, 33, 2, 4)\n",
      "(1848, 8)\n"
     ]
    }
   ],
   "source": [
    "# Uniao do vetor de caracteristicas inicial\n",
    "\n",
    "features = np.array([data_var, data_rms, data_fmd, data_mmdf]) \n",
    "\n",
    "# Organizacao das dimensoes\n",
    "features = features.transpose(1, 3, 2, 0)\n",
    "print(features.shape)\n",
    "\n",
    "# Criar vetor de caracteristicas definitivo\n",
    "features = features.reshape(features.shape[0] * features.shape[1],\n",
    "                            features.shape[2] * features.shape[3])\n",
    "print(features.shape)"
   ]
  },
  {
   "cell_type": "markdown",
   "id": "c8c57e4a",
   "metadata": {},
   "source": [
    "**Tarefa 3:** Realizar normalização dos dados utilizando ferramentas já conhecidas"
   ]
  },
  {
   "cell_type": "code",
   "execution_count": null,
   "id": "79cb06e8",
   "metadata": {},
   "outputs": [],
   "source": []
  },
  {
   "cell_type": "markdown",
   "id": "1cab1532",
   "metadata": {},
   "source": [
    "**Tarefa 4:** Realizar seleção de características dos dados utilizando ferramentas já conhecidas"
   ]
  },
  {
   "cell_type": "code",
   "execution_count": null,
   "id": "19b80229",
   "metadata": {},
   "outputs": [],
   "source": []
  },
  {
   "cell_type": "code",
   "execution_count": 4,
   "id": "38aef0d8",
   "metadata": {},
   "outputs": [
    {
     "data": {
      "text/plain": [
       "1848"
      ]
     },
     "execution_count": 4,
     "metadata": {},
     "output_type": "execute_result"
    }
   ],
   "source": [
    "# Criacao do vetor de labels\n",
    "\n",
    "from sklearn.preprocessing import OneHotEncoder\n",
    "\n",
    "labels_str = ['dir', 'esq', 'cima', 'baixo', 'cima', 'baixo',\n",
    "              'baixo', 'esq', 'dir', 'baixo', 'dir', 'dir', 'esq', 'cima',\n",
    "              'baixo', 'cima', 'esq', 'dir', 'cima', 'esq', 'baixo', 'esq',\n",
    "              'dir', 'esq', 'cima', 'dir', 'cima', 'baixo']\n",
    "\n",
    "# Transofrmando para numerico\n",
    "lab_dict = {'dir': 0, 'esq': 1, 'cima': 2, 'baixo': 3}\n",
    "labels_num = [lab_dict[item] for item in labels_str]\n",
    "\n",
    "# Criacao do vetor de labels final\n",
    "y = labels_num * int(features.shape[0] / len(labels_num))\n",
    "len(y)"
   ]
  },
  {
   "cell_type": "markdown",
   "id": "25c6c430",
   "metadata": {},
   "source": [
    "**Tarefa 5:** Realizar classificacao **SVM**"
   ]
  },
  {
   "cell_type": "code",
   "execution_count": null,
   "id": "a09738b2",
   "metadata": {},
   "outputs": [],
   "source": []
  }
 ],
 "metadata": {
  "kernelspec": {
   "display_name": "Python 3 (ipykernel)",
   "language": "python",
   "name": "python3"
  },
  "language_info": {
   "codemirror_mode": {
    "name": "ipython",
    "version": 3
   },
   "file_extension": ".py",
   "mimetype": "text/x-python",
   "name": "python",
   "nbconvert_exporter": "python",
   "pygments_lexer": "ipython3",
   "version": "3.10.12"
  }
 },
 "nbformat": 4,
 "nbformat_minor": 5
}
