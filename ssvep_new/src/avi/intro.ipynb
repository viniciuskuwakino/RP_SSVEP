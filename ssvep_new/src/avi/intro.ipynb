{
 "cells": [
  {
   "cell_type": "markdown",
   "id": "f3874aef",
   "metadata": {},
   "source": [
    "#### Descrição dos artigos utilizados no trabalho."
   ]
  },
  {
   "cell_type": "markdown",
   "id": "b4dc1005",
   "metadata": {},
   "source": [
    "#### Artigo 1: A dataset of EEG signals from a single-channel SSVEP-based brain computer interface.\n",
    "\n",
    "- Descrição de \"A dataset of EEG signals from a single-channel SSVEP-based brain computer interface\":\n",
    "\n",
    "    O artigo apresenta uma coleção de dados de eletroencefalografia (EEG) de uma Interface Cérebro-Computador (ICC) baseada em Steady State Visual Evoked Potentials (SSVEP).\n",
    "        \n",
    "    Os dados coletados foram obtidos através de um dispositivo de EEG de eletrodos secos de canal único. Com essa coleta as comunidades de pesquisa poderão utilizar os dados no desenvolvimento ou aprimoramento de algoritmos capazes de reconhecer padrões úteis em sinais SSVEP gerados por dispositivos com poucos canais. Esses estudos resultarão na criação de capacetes BCI precisos e de baixo custo. O conjunto de dados pode ser processado com diferentes técnicas de extração e seleção de características, como a Fast Fourier Transform (FFT) ou a Discrete Wavelet Transform (DWT).\n",
    "        \n",
    "    Os SSVEP são sinais cerebrais gerados na área do córtex visual quando se concentra em uma fonte intermitente de luz emitida em uma frequência específica. Nas ICC atuais, os sinais geralmente são adquiridos com capacetes equipados com uma coleção de eletrodos úmidos, usando uma solução salina para melhorar sua capacidade de cada sensor em capturar sinais cerebrais. Devido ao desconforto da solução salina e o grande número de sensores usados no capacete tornam esse processo inconveniente.\n",
    "\n",
    "\tOs dados EEG a serem utilizados nesse trabalho são de apenas um voluntário que contém a resposta a uma fonte intermitente de luz emitida nas quatro seguintes frequências, 8,57 Hz (F1), 10 Hz (F2), 12 Hz (F3) e 15 Hz (F4). Tudo foi salvo em um arquivo .csv, contendo quatro colunas, denominadas F1, F2, F3 e F4. Cada coluna possui 4096 amostras que correspondem a 16 segundos de comprimento de sinal amostrado a 256 Hz, com valores variando entre 0 e 1023.\n"
   ]
  },
  {
   "cell_type": "markdown",
   "id": "33f4e671",
   "metadata": {},
   "source": [
    "- Descrição de \"BETA: A Large Benchmark Database Toward SSVEP-BCI Application\"\n",
    "    - Estudo realizado pelos grupos serão apresentados no dia 31/08 (ou 04/09), juntamnete com a ideia (ou código) do carregamento e preparação do dataset"
   ]
  }
 ],
 "metadata": {
  "kernelspec": {
   "display_name": "Python 3 (ipykernel)",
   "language": "python",
   "name": "python3"
  },
  "language_info": {
   "codemirror_mode": {
    "name": "ipython",
    "version": 3
   },
   "file_extension": ".py",
   "mimetype": "text/x-python",
   "name": "python",
   "nbconvert_exporter": "python",
   "pygments_lexer": "ipython3",
   "version": "3.10.12"
  }
 },
 "nbformat": 4,
 "nbformat_minor": 5
}
